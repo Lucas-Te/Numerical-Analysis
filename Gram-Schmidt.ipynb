{
 "cells": [
  {
   "cell_type": "code",
   "execution_count": null,
   "metadata": {},
   "outputs": [],
   "source": [
    "# Pour permettre les calculs formels\n",
    "from sympy import *\n",
    "#  pour automatiquement afficher les résultats avec jsmath\n",
    "init_printing()\n",
    "\n",
    "# define symbols\n",
    "x = Symbol('x')\n",
    "#n = Symbol('n', positive=True, integer=True)\n",
    "\n",
    "# compute scalar product\n",
    "def proscal(p,q):\n",
    "    return(integrate(p*q,(x,-1,1)))\n",
    "\n",
    "# compute square norm\n",
    "def norm2(p):\n",
    "    return(proscal(p,p))\n",
    "\n",
    "#compute norm\n",
    "def norm(p):\n",
    "    return(sqrt(norm2(p)))\n",
    "\n",
    "# compute projection of v over u\n",
    "def proj(u,v):\n",
    "    return(proscal(u,v)*u/proscal(u,u))"
   ]
  },
  {
   "cell_type": "code",
   "execution_count": null,
   "metadata": {},
   "outputs": [],
   "source": [
    "#Compute p_0\n",
    "p0  = x**0\n",
    "#p0  = p0/sqrt(proscal(p0,p0))\n",
    "p0"
   ]
  },
  {
   "cell_type": "code",
   "execution_count": null,
   "metadata": {},
   "outputs": [],
   "source": [
    "#Compute p_1\n",
    "p1  = x**1 -  proj(p0,x**1)\n",
    "#p1  = p1/norm(p1)\n",
    "\n",
    "p0, p1"
   ]
  },
  {
   "cell_type": "code",
   "execution_count": null,
   "metadata": {},
   "outputs": [],
   "source": [
    "#Compute p_2\n",
    "p2 = x**2 - proj(p0, x**2) - proj(p1, x**2)\n",
    "#p2 = p2/norm(p2)\n",
    "\n",
    "p0, p1, p2"
   ]
  },
  {
   "cell_type": "code",
   "execution_count": null,
   "metadata": {},
   "outputs": [],
   "source": [
    "#Compute p_3\n",
    "p3 = x**3 - proj(p0, x**3) - proj(p1, x**3) - proj(p2, x**3)\n",
    "#p3 = p3/norm(p3)\n",
    "p3"
   ]
  },
  {
   "cell_type": "code",
   "execution_count": null,
   "metadata": {},
   "outputs": [],
   "source": [
    "#Compute p_4\n",
    "p4 = x**4 - proj(p0, x**4) - proj(p1, x**4) - proj(p2, x**4) - proj(p3, x**4)\n",
    "#p4 = p4/norm(p4)\n",
    "p4"
   ]
  },
  {
   "cell_type": "code",
   "execution_count": null,
   "metadata": {},
   "outputs": [],
   "source": [
    "# check norms\n",
    "norm(p0), norm(p1), norm(p2), norm(p3), norm(p4)"
   ]
  },
  {
   "cell_type": "code",
   "execution_count": null,
   "metadata": {},
   "outputs": [],
   "source": [
    "# check ortogonality\n",
    "(proscal(p0,p1), proscal(p0,p2), proscal(p0,p3), proscal(p0,p4),\n",
    " proscal(p1,p2), proscal(p1,p3), proscal(p1,p4),\n",
    " proscal(p2,p3), proscal(p2,p4),\n",
    " proscal(p3,p4))"
   ]
  },
  {
   "cell_type": "code",
   "execution_count": null,
   "metadata": {},
   "outputs": [],
   "source": [
    "import matplotlib.pyplot as plt\n",
    "import numpy as np\n",
    "f = lambda vx,p : [p.subs({x:i}) for i in vx]\n",
    "\n",
    "plt.figure(figsize=(12, 8))\n",
    "vx = np.linspace(-1, 1, 120)\n",
    "\n",
    "vy = f(vx,p0)\n",
    "plt.plot(vx, vy, linewidth=1 , color='purple' ,label='$p_0$')\n",
    "\n",
    "vy = f(vx,p1)\n",
    "plt.plot(vx, vy, linewidth=1 , color='red' ,label='$p_1$')\n",
    "\n",
    "vy = f(vx,p2)\n",
    "plt.plot(vx, vy, linewidth=1 , color='blue' ,label='$p_2$')\n",
    "\n",
    "vy = f(vx,p3)\n",
    "plt.plot(vx, vy, linewidth=1 , color='green' ,label='$p_3$')\n",
    "\n",
    "vy = f(vx,p4)\n",
    "plt.plot(vx, vy, linewidth=1 , color='orange' ,label='$p_4$')\n",
    "\n",
    "#\n",
    "plt.title('Polynoms')\n",
    "plt.grid()\n",
    "plt.axis([-1, 1, -1.2, 1.2])\n",
    "plt.legend()\n",
    "plt.show()"
   ]
  },
  {
   "cell_type": "code",
   "execution_count": null,
   "metadata": {},
   "outputs": [],
   "source": [
    "# We can apply the same Gram-Schmidt method in order to find an orthonormal basis of the\n",
    "# polynomials 1, x^2, x^4, x^6,... and so on\n",
    "#\n",
    "# build (p0,p2,p4,p6,p8,p10,p12,p14)\n",
    "p0  = x**0\n",
    "p0  = p0/sqrt(proscal(p0,p0))\n",
    "\n",
    "p2  = x**2 -  proj(p0,x**2)\n",
    "p2  = p2/sqrt(proscal(p2,p2))\n",
    "\n",
    "p4 = x**4 -  proj(p0,x**4) - proj(p2,x**4)\n",
    "p4 = p4/sqrt(proscal(p4,p4))\n",
    "\n",
    "p6 = x**6 -  proj(p0,x**6)  -  proj(p2,x**6) - proj(p4,x**6)\n",
    "p6 = p6/sqrt(proscal(p6,p6))\n",
    "\n",
    "p8 = x**8 -  proj(p0,x**8) -  proj(p2,x**8) - proj(p4,x**8) - proj(p6, x**8)\n",
    "p8 = p8/sqrt(proscal(p8,p8))\n",
    "\n",
    "p10 = x**10 -  proj(p0,x**10) -  proj(p2,x**10) - proj(p4,x**10) - proj(p6,x**10) - proj(p8, x**10)\n",
    "p10 = p10/sqrt(proscal(p10,p10))\n",
    "\n",
    "p12 = x**12 -  proj(p0,x**12) -  proj(p2,x**12) - proj(p4,x**12) - proj(p6,x**12) - proj(p8, x**12) - proj(p10,x**12)\n",
    "p12 = p12/sqrt(proscal(p12,p12))\n",
    "\n",
    "p14 = x**14 -  proj(p0,x**14) -  proj(p2,x**14) - proj(p4,x**14) - proj(p6,x**14) - proj(p8, x**14) - proj(p10,x**14) - proj(p12,x**14)\n",
    "p14 = p14/sqrt(proscal(p14,p14))\n",
    "[p0, p2, p4, p6, p8, p10, p12, p14]"
   ]
  }
 ],
 "metadata": {
  "anaconda-cloud": {},
  "kernelspec": {
   "display_name": "Python 3",
   "language": "python",
   "name": "python3"
  },
  "language_info": {
   "codemirror_mode": {
    "name": "ipython",
    "version": 3
   },
   "file_extension": ".py",
   "mimetype": "text/x-python",
   "name": "python",
   "nbconvert_exporter": "python",
   "pygments_lexer": "ipython3",
   "version": "3.8.6"
  }
 },
 "nbformat": 4,
 "nbformat_minor": 1
}
