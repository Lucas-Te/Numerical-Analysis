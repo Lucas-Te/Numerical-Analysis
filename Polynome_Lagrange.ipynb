{
 "cells": [
  {
   "cell_type": "markdown",
   "metadata": {},
   "source": [
    "# TD1 : polynômes de Lagrange\n",
    "\n",
    "Le code ci-dessous premet de créer le polynôme de Lagrange qui envoie chacune des valeurs de la liste `lx` vers la valeur correspondante de la liste `ly`. "
   ]
  },
  {
   "cell_type": "code",
   "execution_count": null,
   "metadata": {},
   "outputs": [],
   "source": [
    "from sympy import *\n",
    "x=Symbol('x')\n",
    "init_printing()"
   ]
  },
  {
   "cell_type": "code",
   "execution_count": null,
   "metadata": {},
   "outputs": [],
   "source": [
    "def polLagrange(lx,ly) :\n",
    "    \"\"\"\n",
    "    polynôme de Lagrange qui envoie chacune des valeurs de la liste lx vers la liste ly.\n",
    "    Si n est la longeur commune des deux liste lx et ly, alors ce polynôme est de degré au plus n-1. \n",
    "    \n",
    "    Par exemple si f = x -> x**3 + 2*x**2 + 3*x + 4\n",
    "    on voit que f est de degré 3 et que f(-2)=-2, f(0)=4, f(1)=10 et enfin f(2)=26. \n",
    "    \n",
    "    Puisque les listes [-2,0,1,2] et [-2, 4, 10, 26] sont de longueur 4, \n",
    "    alors le polynôme de Lagrange associé à ces listes est f...\n",
    "    \n",
    "    >>> from sympy import *\n",
    "    >>> x = Symbol('x')\n",
    "    >>> f = polLagrange([-2,0,1,2],[-2, 4, 10, 26])\n",
    "    >>> print(f(x))\n",
    "    x*(x - 2)*(x - 1)/12 - 10*x*(x - 2)*(x + 2)/3 + 13*x*(x - 1)*(x + 2)/4 + (x - 2)*(x - 1)*(x + 2)\n",
    "    >>> print([f(x) for x in [-2,0,1,2]])\n",
    "    [-2, 4, 10, 26]\n",
    "    >>> print(expand(f(x)))\n",
    "     x**3 + 2*x**2 + 3*x + 4\n",
    "    \"\"\"\n",
    "    n=len(lx) \n",
    "    lx=[sympify(_) for _ in lx]\n",
    "    ly=[sympify(_) for _ in ly]\n",
    "    # baseLagrange(lx)\n",
    "    bl = [lambda x, k=i : prod([x-lx[j] for j in range(n) if j != k]) for i in range(n)]\n",
    "    return lambda x : sum( [ ly[i]/bl[i](lx[i])*bl[i](x) for i in range(n) ])"
   ]
  },
  {
   "cell_type": "markdown",
   "metadata": {},
   "source": [
    "On remarquera que parce que l'on a pris la précaution de fournir une documentation détaillée, un appel à \n",
    "\n",
    "                polLagrange?\n",
    "                \n",
    "permettra à l'utilisateur de découvrir comment utiliser cette fonction. \n",
    "\n",
    "De plus cette même documentation pourra être utilisée (utilitaire `pydoc`) pour générer un site web de documentation ou (utilitaire `pytest`) pour effecuer des tests de non-régression. "
   ]
  },
  {
   "cell_type": "code",
   "execution_count": null,
   "metadata": {
    "inputHidden": false,
    "outputHidden": false
   },
   "outputs": [],
   "source": [
    "help(polLagrange)"
   ]
  },
  {
   "cell_type": "code",
   "execution_count": null,
   "metadata": {},
   "outputs": [],
   "source": [
    "lx = [-2,0,1,2]\n",
    "ly = [-2, 4, 10, 26]\n",
    "\n",
    "lx=[sympify(_) for _ in lx]\n",
    "ly=[sympify(_) for _ in ly]\n",
    "\n",
    "lx,ly"
   ]
  },
  {
   "cell_type": "code",
   "execution_count": null,
   "metadata": {
    "inputHidden": false,
    "outputHidden": false
   },
   "outputs": [],
   "source": [
    "f = polLagrange([-2,0,1,2],[-2, 4, 10, 26])\n",
    "f(x)\n",
    "expand(f(x))\n",
    "#[f(x) for x in [-2,0,1,2]]"
   ]
  },
  {
   "cell_type": "markdown",
   "metadata": {},
   "source": [
    "# Exercice \n",
    "## Polynôme interpolateur pour 3 points\n",
    "Calculer et représenter le polynôme de Lagrange associé au «nuage» de trois points\n",
    "$ \\begin{pmatrix}-1\\\\2\\end{pmatrix} $\n",
    "$ \\begin{pmatrix}1\\\\0\\end{pmatrix} $\n",
    "et \n",
    "$ \\begin{pmatrix}2\\\\-3\\end{pmatrix} $. \n",
    "\n",
    "\n"
   ]
  },
  {
   "cell_type": "code",
   "execution_count": null,
   "metadata": {
    "inputHidden": false,
    "outputHidden": false
   },
   "outputs": [],
   "source": [
    "## le pol Lagrange de degré au plus 2\n",
    "lx=[-1,1,2]\n",
    "ly=[2,0,-3]\n",
    "f=polLagrange(lx,ly)\n",
    "f(x)\n",
    "#expand(f(x))"
   ]
  },
  {
   "cell_type": "code",
   "execution_count": null,
   "metadata": {
    "inputHidden": false,
    "outputHidden": false
   },
   "outputs": [],
   "source": [
    "import matplotlib.pyplot as plt\n",
    "import numpy as np"
   ]
  },
  {
   "cell_type": "code",
   "execution_count": null,
   "metadata": {
    "inputHidden": false,
    "outputHidden": false
   },
   "outputs": [],
   "source": [
    "abscisses = np.linspace(-4,6, 120)\n",
    "plt.figure(figsize=(8, 6))\n",
    "\n",
    "# plot f\n",
    "plt.plot(abscisses, f(abscisses), linewidth=1 , color='red' ,label='$f$') \n",
    "\n",
    "### les trois points communs...\n",
    "plt.plot(lx,ly, 'ro')\n",
    "plt.title('Lagrange')\n",
    "plt.grid()\n",
    "plt.axis([-4, 6, -30, 10])\n",
    "plt.legend()\n",
    "plt.show()"
   ]
  },
  {
   "cell_type": "code",
   "execution_count": null,
   "metadata": {
    "inputHidden": false,
    "outputHidden": false
   },
   "outputs": [],
   "source": [
    "\n",
    "fig, ax = plt.subplots(figsize=(8, 6))\n",
    "ax.set_prop_cycle('color', ['blue', 'green', 'orange', 'purple'])\n",
    "\n",
    "## le pol Lagrange de degré au plus 2\n",
    "lx=[-1,1,2]\n",
    "ly=[2,0,-3]\n",
    "f=polLagrange(lx,ly)\n",
    "print(\"Lagrange pour %s et %s\"%(lx,ly))\n",
    "print(f(x))\n",
    "\n",
    "# plot f\n",
    "abscisses = np.linspace(-4,6, 120)\n",
    "plt.plot(abscisses, f(abscisses), linewidth=1 , color='red' ,label='$f$') \n",
    "\n",
    "### les trois points communs...\n",
    "plt.plot(lx,ly, 'ro')\n",
    "\n",
    "# Ajout d'un point, pol de Lagrange de degré au plus 3\n",
    "g=polLagrange(lx+[4],ly+[0])\n",
    "print(\"Lagrange pour %s et %s\"%(lx+[4],ly+[0]))\n",
    "print(g(x))\n",
    "\n",
    "# change le 4ème point\n",
    "for y in range(-25,10,5):\n",
    "    g=polLagrange(lx+[4],ly+[y])\n",
    "    plt.plot(abscisses, g(abscisses), linewidth=1 , label=\"$g(%s)=%s$\"%(4,y)) \n",
    "    plt.plot([4], [y], 'bo')\n",
    "\n",
    "plt.title('Lagrange')\n",
    "plt.grid()\n",
    "plt.axis([-4, 6, -30, 10])\n",
    "plt.legend()\n",
    "plt.show()"
   ]
  },
  {
   "cell_type": "markdown",
   "metadata": {},
   "source": [
    "## Que se passe t'il si tous les $y_i$ sont égaux à 1 ?"
   ]
  },
  {
   "cell_type": "code",
   "execution_count": null,
   "metadata": {
    "inputHidden": false,
    "outputHidden": false
   },
   "outputs": [],
   "source": [
    "f=polLagrange([1,2,3],[1,1,1])\n",
    "print(f(x))\n",
    "expand(f(x))"
   ]
  }
 ],
 "metadata": {
  "kernel_info": {
   "name": "python3"
  },
  "kernelspec": {
   "display_name": "Python 3",
   "language": "python",
   "name": "python3"
  },
  "language_info": {
   "codemirror_mode": {
    "name": "ipython",
    "version": 3
   },
   "file_extension": ".py",
   "mimetype": "text/x-python",
   "name": "python",
   "nbconvert_exporter": "python",
   "pygments_lexer": "ipython3",
   "version": "3.8.6"
  },
  "latex_envs": {
   "LaTeX_envs_menu_present": true,
   "autocomplete": true,
   "bibliofile": "biblio.bib",
   "cite_by": "apalike",
   "current_citInitial": 1,
   "eqLabelWithNumbers": false,
   "eqNumInitial": 1,
   "hotkeys": {
    "equation": "Ctrl-E",
    "itemize": "Ctrl-I"
   },
   "labels_anchors": false,
   "latex_user_defs": false,
   "report_style_numbering": false,
   "user_envs_cfg": true
  },
  "nteract": {
   "version": "0.14.0"
  }
 },
 "nbformat": 4,
 "nbformat_minor": 2
}
